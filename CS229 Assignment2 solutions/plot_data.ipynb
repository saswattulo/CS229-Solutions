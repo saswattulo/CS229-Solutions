{
 "cells": [
  {
   "cell_type": "code",
   "execution_count": 2,
   "id": "c69b050c",
   "metadata": {},
   "outputs": [],
   "source": [
    "import pandas as pd\n",
    "import numpy as np\n",
    "import matplotlib.pyplot as plt\n",
    "import seaborn as sns"
   ]
  },
  {
   "cell_type": "code",
   "execution_count": 11,
   "id": "0e187401",
   "metadata": {},
   "outputs": [
    {
     "data": {
      "text/plain": [
       "array([[34.62365962, 78.02469282,  0.        ],\n",
       "       [30.28671077, 43.89499752,  0.        ],\n",
       "       [35.84740877, 72.90219803,  0.        ],\n",
       "       [60.18259939, 86.3085521 ,  1.        ],\n",
       "       [79.03273605, 75.34437644,  1.        ],\n",
       "       [45.08327748, 56.31637178,  0.        ],\n",
       "       [61.10666454, 96.51142588,  1.        ],\n",
       "       [75.02474557, 46.55401354,  1.        ],\n",
       "       [76.0987867 , 87.42056972,  1.        ],\n",
       "       [84.43281996, 43.53339331,  1.        ],\n",
       "       [95.86155507, 38.22527806,  0.        ],\n",
       "       [75.01365839, 30.60326323,  0.        ],\n",
       "       [82.30705337, 76.4819633 ,  1.        ],\n",
       "       [69.36458876, 97.71869196,  1.        ],\n",
       "       [39.53833914, 76.03681085,  0.        ],\n",
       "       [53.97105215, 89.20735014,  1.        ],\n",
       "       [69.07014406, 52.74046973,  1.        ],\n",
       "       [67.94685548, 46.67857411,  0.        ],\n",
       "       [70.66150955, 92.92713789,  1.        ],\n",
       "       [76.97878373, 47.57596365,  1.        ],\n",
       "       [67.37202755, 42.83843832,  0.        ],\n",
       "       [89.67677575, 65.79936593,  1.        ],\n",
       "       [50.53478829, 48.85581153,  0.        ],\n",
       "       [34.21206098, 44.2095286 ,  0.        ],\n",
       "       [77.92409145, 68.97235999,  1.        ],\n",
       "       [62.27101367, 69.95445795,  1.        ],\n",
       "       [80.19018075, 44.82162893,  1.        ],\n",
       "       [93.1143888 , 38.80067034,  0.        ],\n",
       "       [61.83020602, 50.25610789,  0.        ],\n",
       "       [38.7858038 , 64.99568096,  0.        ],\n",
       "       [61.37928945, 72.80788731,  1.        ],\n",
       "       [85.40451939, 57.05198398,  1.        ],\n",
       "       [52.10797973, 63.12762377,  0.        ],\n",
       "       [52.04540477, 69.43286012,  1.        ],\n",
       "       [40.23689374, 71.16774802,  0.        ],\n",
       "       [54.63510555, 52.21388588,  0.        ],\n",
       "       [33.91550011, 98.86943574,  0.        ],\n",
       "       [64.17698887, 80.90806059,  1.        ],\n",
       "       [74.78925296, 41.57341523,  0.        ],\n",
       "       [34.18364003, 75.23772034,  0.        ],\n",
       "       [83.90239366, 56.30804622,  1.        ],\n",
       "       [51.54772027, 46.85629026,  0.        ],\n",
       "       [94.44336777, 65.56892161,  1.        ],\n",
       "       [82.36875376, 40.61825516,  0.        ],\n",
       "       [51.04775177, 45.82270146,  0.        ],\n",
       "       [62.22267576, 52.06099195,  0.        ],\n",
       "       [77.19303493, 70.4582    ,  1.        ],\n",
       "       [97.77159928, 86.72782233,  1.        ],\n",
       "       [62.0730638 , 96.76882412,  1.        ],\n",
       "       [91.5649745 , 88.69629255,  1.        ],\n",
       "       [79.94481794, 74.16311935,  1.        ],\n",
       "       [99.27252693, 60.999031  ,  1.        ],\n",
       "       [90.54671411, 43.39060181,  1.        ],\n",
       "       [34.52451385, 60.39634246,  0.        ],\n",
       "       [50.28649612, 49.80453881,  0.        ],\n",
       "       [49.58667722, 59.80895099,  0.        ],\n",
       "       [97.64563396, 68.86157272,  1.        ],\n",
       "       [32.57720017, 95.59854761,  0.        ],\n",
       "       [74.24869137, 69.82457123,  1.        ],\n",
       "       [71.79646206, 78.45356225,  1.        ],\n",
       "       [75.39561147, 85.75993667,  1.        ],\n",
       "       [35.28611282, 47.02051395,  0.        ],\n",
       "       [56.2538175 , 39.26147251,  0.        ],\n",
       "       [30.05882245, 49.59297387,  0.        ],\n",
       "       [44.66826172, 66.45008615,  0.        ],\n",
       "       [66.56089447, 41.09209808,  0.        ],\n",
       "       [40.45755098, 97.53518549,  1.        ],\n",
       "       [49.07256322, 51.88321182,  0.        ],\n",
       "       [80.27957401, 92.11606081,  1.        ],\n",
       "       [66.74671857, 60.99139403,  1.        ],\n",
       "       [32.72283304, 43.30717306,  0.        ],\n",
       "       [64.03932042, 78.03168802,  1.        ],\n",
       "       [72.34649423, 96.22759297,  1.        ],\n",
       "       [60.45788574, 73.0949981 ,  1.        ],\n",
       "       [58.84095622, 75.85844831,  1.        ],\n",
       "       [99.8278578 , 72.36925193,  1.        ],\n",
       "       [47.26426911, 88.475865  ,  1.        ],\n",
       "       [50.4581598 , 75.80985953,  1.        ],\n",
       "       [60.45555629, 42.50840944,  0.        ],\n",
       "       [82.22666158, 42.71987854,  0.        ],\n",
       "       [88.91389642, 69.8037889 ,  1.        ],\n",
       "       [94.83450672, 45.6943068 ,  1.        ],\n",
       "       [67.31925747, 66.58935318,  1.        ],\n",
       "       [57.23870632, 59.51428198,  1.        ],\n",
       "       [80.366756  , 90.9601479 ,  1.        ],\n",
       "       [68.46852179, 85.5943071 ,  1.        ],\n",
       "       [42.07545454, 78.844786  ,  0.        ],\n",
       "       [75.47770201, 90.424539  ,  1.        ],\n",
       "       [78.63542435, 96.64742717,  1.        ],\n",
       "       [52.34800399, 60.76950526,  0.        ],\n",
       "       [94.09433113, 77.15910509,  1.        ],\n",
       "       [90.44855097, 87.50879176,  1.        ],\n",
       "       [55.48216114, 35.57070347,  0.        ],\n",
       "       [74.49269242, 84.84513685,  1.        ],\n",
       "       [89.84580671, 45.35828361,  1.        ],\n",
       "       [83.48916274, 48.3802858 ,  1.        ],\n",
       "       [42.26170081, 87.10385094,  1.        ],\n",
       "       [99.31500881, 68.77540947,  1.        ],\n",
       "       [55.34001756, 64.93193801,  1.        ],\n",
       "       [74.775893  , 89.5298129 ,  1.        ]])"
      ]
     },
     "execution_count": 11,
     "metadata": {},
     "output_type": "execute_result"
    }
   ],
   "source": [
    "df=np.loadtxt('ex2data1.txt',delimiter=',')\n",
    "df"
   ]
  },
  {
   "cell_type": "code",
   "execution_count": 20,
   "id": "951f903a",
   "metadata": {},
   "outputs": [],
   "source": [
    "X=df[:,0:2]\n",
    "y=df[:,2]"
   ]
  },
  {
   "cell_type": "code",
   "execution_count": 23,
   "id": "c2dc5796",
   "metadata": {},
   "outputs": [],
   "source": [
    "pos=np.where(y==1)[0]\n",
    "neg=np.where(y==0)[0]"
   ]
  },
  {
   "cell_type": "code",
   "execution_count": 26,
   "id": "4f2c6bcf",
   "metadata": {},
   "outputs": [
    {
     "data": {
      "text/plain": [
       "array([60.18259939, 79.03273605, 61.10666454, 75.02474557, 76.0987867 ,\n",
       "       84.43281996, 82.30705337, 69.36458876, 53.97105215, 69.07014406,\n",
       "       70.66150955, 76.97878373, 89.67677575, 77.92409145, 62.27101367,\n",
       "       80.19018075, 61.37928945, 85.40451939, 52.04540477, 64.17698887,\n",
       "       83.90239366, 94.44336777, 77.19303493, 97.77159928, 62.0730638 ,\n",
       "       91.5649745 , 79.94481794, 99.27252693, 90.54671411, 97.64563396,\n",
       "       74.24869137, 71.79646206, 75.39561147, 40.45755098, 80.27957401,\n",
       "       66.74671857, 64.03932042, 72.34649423, 60.45788574, 58.84095622,\n",
       "       99.8278578 , 47.26426911, 50.4581598 , 88.91389642, 94.83450672,\n",
       "       67.31925747, 57.23870632, 80.366756  , 68.46852179, 75.47770201,\n",
       "       78.63542435, 94.09433113, 90.44855097, 74.49269242, 89.84580671,\n",
       "       83.48916274, 42.26170081, 99.31500881, 55.34001756, 74.775893  ])"
      ]
     },
     "execution_count": 26,
     "metadata": {},
     "output_type": "execute_result"
    }
   ],
   "source": [
    "X[pos][:,0]"
   ]
  },
  {
   "cell_type": "code",
   "execution_count": 37,
   "id": "54a849f4",
   "metadata": {},
   "outputs": [
    {
     "data": {
      "text/plain": [
       "<matplotlib.legend.Legend at 0x27f5d798750>"
      ]
     },
     "execution_count": 37,
     "metadata": {},
     "output_type": "execute_result"
    },
    {
     "data": {
      "image/png": "[encoded data removed]",
      "text/plain": [
       "<Figure size 640x480 with 1 Axes>"
      ]
     },
     "metadata": {},
     "output_type": "display_data"
    }
   ],
   "source": [
    "plt.scatter(X[pos][:,0],X[pos][:,1],marker='+',c='black')\n",
    "plt.scatter(X[neg][:,0],X[neg][:,1],marker='o',c='y')\n",
    "plt.xlabel(\"Score of Exam 1\")\n",
    "plt.ylabel(\"Score of Exam 2\")\n",
    "plt.legend(['Admitted','Not-admitted'])"
   ]
  },
  {
   "cell_type": "code",
   "execution_count": null,
   "id": "d477e83b",
   "metadata": {},
   "outputs": [],
   "source": []
  }
 ],
 "metadata": {
  "kernelspec": {
   "display_name": "Python 3 (ipykernel)",
   "language": "python",
   "name": "python3"
  },
  "language_info": {
   "codemirror_mode": {
    "name": "ipython",
    "version": 3
   },
   "file_extension": ".py",
   "mimetype": "text/x-python",
   "name": "python",
   "nbconvert_exporter": "python",
   "pygments_lexer": "ipython3",
   "version": "3.11.4"
  }
 },
 "nbformat": 4,
 "nbformat_minor": 5
}
